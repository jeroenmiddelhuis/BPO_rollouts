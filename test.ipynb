{
 "cells": [
  {
   "cell_type": "code",
   "execution_count": null,
   "metadata": {},
   "outputs": [],
   "source": [
    "import numpy as np"
   ]
  },
  {
   "cell_type": "code",
   "execution_count": 7,
   "metadata": {},
   "outputs": [
    {
     "name": "stdout",
     "output_type": "stream",
     "text": [
      "expected time 0.5950413223140496\n",
      "rates {'arrival': 0.5, 'r1a': 0.625, 'r2a': 0.5555555555555556}\n",
      "evolutions {'arrival': 0.2975206611570248, 'r1a': 0.371900826446281, 'r2a': 0.3305785123966942}\n",
      "transformed evolutions {'arrival': 0.25, 'r1a': 0.3125, 'r2a': 0.2777777777777778, 'return_to_state': 0.1597222222222222}\n"
     ]
    }
   ],
   "source": [
    "tau = 0.5\n",
    "evolution_rates = {'arrival': 0.5, 'r1a': 1/1.6, 'r2a': 1/1.8}\n",
    "\n",
    "sum_of_rates = sum(evolution_rates.values())\n",
    "expected_time = 1/sum_of_rates\n",
    "print('expected time', expected_time)\n",
    "\n",
    "evolutions = {}\n",
    "for key, rate in evolution_rates.items():\n",
    "    evolutions[key] = rate/sum_of_rates\n",
    "\n",
    "print('rates', evolution_rates)\n",
    "print('evolutions', evolutions)\n",
    "\n",
    "transformed_evolutions = {}\n",
    "for evolution, p in evolutions.items():\n",
    "    transformed_evolutions[evolution] = p * tau / expected_time\n",
    "\n",
    "transformed_evolutions['return_to_state'] = 1 - tau / expected_time\n",
    "\n",
    "print('transformed evolutions', transformed_evolutions)"
   ]
  },
  {
   "cell_type": "code",
   "execution_count": null,
   "metadata": {},
   "outputs": [],
   "source": []
  }
 ],
 "metadata": {
  "kernelspec": {
   "display_name": "remco",
   "language": "python",
   "name": "python3"
  },
  "language_info": {
   "codemirror_mode": {
    "name": "ipython",
    "version": 3
   },
   "file_extension": ".py",
   "mimetype": "text/x-python",
   "name": "python",
   "nbconvert_exporter": "python",
   "pygments_lexer": "ipython3",
   "version": "3.12.4"
  }
 },
 "nbformat": 4,
 "nbformat_minor": 2
}
